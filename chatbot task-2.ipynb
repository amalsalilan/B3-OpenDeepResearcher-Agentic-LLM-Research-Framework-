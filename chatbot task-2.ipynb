{
 "cells": [
  {
   "cell_type": "code",
   "execution_count": 29,
   "id": "a8a8d8a7",
   "metadata": {},
   "outputs": [
    {
     "name": "stdout",
     "output_type": "stream",
     "text": [
      "Requirement already satisfied: langchain in c:\\users\\prasanth muppalla\\appdata\\local\\programs\\python\\python312\\lib\\site-packages (1.0.2)\n",
      "Requirement already satisfied: langchain-core in c:\\users\\prasanth muppalla\\appdata\\local\\programs\\python\\python312\\lib\\site-packages (1.0.1)\n",
      "Requirement already satisfied: langgraph in c:\\users\\prasanth muppalla\\appdata\\local\\programs\\python\\python312\\lib\\site-packages (1.0.1)\n",
      "Requirement already satisfied: pydantic in c:\\users\\prasanth muppalla\\appdata\\local\\programs\\python\\python312\\lib\\site-packages (2.12.3)\n",
      "Requirement already satisfied: langchain-google-genai in c:\\users\\prasanth muppalla\\appdata\\local\\programs\\python\\python312\\lib\\site-packages (3.0.0)\n",
      "Requirement already satisfied: python-dotenv in c:\\users\\prasanth muppalla\\appdata\\local\\programs\\python\\python312\\lib\\site-packages (1.2.1)\n",
      "Requirement already satisfied: jsonpatch<2.0.0,>=1.33.0 in c:\\users\\prasanth muppalla\\appdata\\local\\programs\\python\\python312\\lib\\site-packages (from langchain-core) (1.33)\n",
      "Requirement already satisfied: langsmith<1.0.0,>=0.3.45 in c:\\users\\prasanth muppalla\\appdata\\local\\programs\\python\\python312\\lib\\site-packages (from langchain-core) (0.4.37)\n",
      "Requirement already satisfied: packaging<26.0.0,>=23.2.0 in c:\\users\\prasanth muppalla\\appdata\\local\\programs\\python\\python312\\lib\\site-packages (from langchain-core) (23.2)\n",
      "Requirement already satisfied: pyyaml<7.0.0,>=5.3.0 in c:\\users\\prasanth muppalla\\appdata\\local\\programs\\python\\python312\\lib\\site-packages (from langchain-core) (6.0.2)\n",
      "Requirement already satisfied: tenacity!=8.4.0,<10.0.0,>=8.1.0 in c:\\users\\prasanth muppalla\\appdata\\local\\programs\\python\\python312\\lib\\site-packages (from langchain-core) (8.5.0)\n",
      "Requirement already satisfied: typing-extensions<5.0.0,>=4.7.0 in c:\\users\\prasanth muppalla\\appdata\\local\\programs\\python\\python312\\lib\\site-packages (from langchain-core) (4.15.0)\n",
      "Requirement already satisfied: langgraph-checkpoint<4.0.0,>=2.1.0 in c:\\users\\prasanth muppalla\\appdata\\local\\programs\\python\\python312\\lib\\site-packages (from langgraph) (3.0.0)\n",
      "Requirement already satisfied: langgraph-prebuilt<1.1.0,>=1.0.0 in c:\\users\\prasanth muppalla\\appdata\\local\\programs\\python\\python312\\lib\\site-packages (from langgraph) (1.0.1)\n",
      "Requirement already satisfied: langgraph-sdk<0.3.0,>=0.2.2 in c:\\users\\prasanth muppalla\\appdata\\local\\programs\\python\\python312\\lib\\site-packages (from langgraph) (0.2.9)\n",
      "Requirement already satisfied: xxhash>=3.5.0 in c:\\users\\prasanth muppalla\\appdata\\local\\programs\\python\\python312\\lib\\site-packages (from langgraph) (3.6.0)\n",
      "Requirement already satisfied: annotated-types>=0.6.0 in c:\\users\\prasanth muppalla\\appdata\\local\\programs\\python\\python312\\lib\\site-packages (from pydantic) (0.7.0)\n",
      "Requirement already satisfied: pydantic-core==2.41.4 in c:\\users\\prasanth muppalla\\appdata\\local\\programs\\python\\python312\\lib\\site-packages (from pydantic) (2.41.4)\n",
      "Requirement already satisfied: typing-inspection>=0.4.2 in c:\\users\\prasanth muppalla\\appdata\\local\\programs\\python\\python312\\lib\\site-packages (from pydantic) (0.4.2)\n",
      "Requirement already satisfied: jsonpointer>=1.9 in c:\\users\\prasanth muppalla\\appdata\\local\\programs\\python\\python312\\lib\\site-packages (from jsonpatch<2.0.0,>=1.33.0->langchain-core) (3.0.0)\n",
      "Requirement already satisfied: ormsgpack>=1.10.0 in c:\\users\\prasanth muppalla\\appdata\\local\\programs\\python\\python312\\lib\\site-packages (from langgraph-checkpoint<4.0.0,>=2.1.0->langgraph) (1.11.0)\n",
      "Requirement already satisfied: httpx>=0.25.2 in c:\\users\\prasanth muppalla\\appdata\\local\\programs\\python\\python312\\lib\\site-packages (from langgraph-sdk<0.3.0,>=0.2.2->langgraph) (0.28.1)\n",
      "Requirement already satisfied: orjson>=3.10.1 in c:\\users\\prasanth muppalla\\appdata\\local\\programs\\python\\python312\\lib\\site-packages (from langgraph-sdk<0.3.0,>=0.2.2->langgraph) (3.11.3)\n",
      "Requirement already satisfied: requests-toolbelt>=1.0.0 in c:\\users\\prasanth muppalla\\appdata\\local\\programs\\python\\python312\\lib\\site-packages (from langsmith<1.0.0,>=0.3.45->langchain-core) (1.0.0)\n",
      "Requirement already satisfied: requests>=2.0.0 in c:\\users\\prasanth muppalla\\appdata\\local\\programs\\python\\python312\\lib\\site-packages (from langsmith<1.0.0,>=0.3.45->langchain-core) (2.32.3)\n",
      "Requirement already satisfied: zstandard>=0.23.0 in c:\\users\\prasanth muppalla\\appdata\\local\\programs\\python\\python312\\lib\\site-packages (from langsmith<1.0.0,>=0.3.45->langchain-core) (0.25.0)\n",
      "Requirement already satisfied: anyio in c:\\users\\prasanth muppalla\\appdata\\local\\programs\\python\\python312\\lib\\site-packages (from httpx>=0.25.2->langgraph-sdk<0.3.0,>=0.2.2->langgraph) (4.9.0)\n",
      "Requirement already satisfied: certifi in c:\\users\\prasanth muppalla\\appdata\\local\\programs\\python\\python312\\lib\\site-packages (from httpx>=0.25.2->langgraph-sdk<0.3.0,>=0.2.2->langgraph) (2025.4.26)\n",
      "Requirement already satisfied: httpcore==1.* in c:\\users\\prasanth muppalla\\appdata\\local\\programs\\python\\python312\\lib\\site-packages (from httpx>=0.25.2->langgraph-sdk<0.3.0,>=0.2.2->langgraph) (1.0.9)\n",
      "Requirement already satisfied: idna in c:\\users\\prasanth muppalla\\appdata\\local\\programs\\python\\python312\\lib\\site-packages (from httpx>=0.25.2->langgraph-sdk<0.3.0,>=0.2.2->langgraph) (3.10)\n",
      "Requirement already satisfied: h11>=0.16 in c:\\users\\prasanth muppalla\\appdata\\local\\programs\\python\\python312\\lib\\site-packages (from httpcore==1.*->httpx>=0.25.2->langgraph-sdk<0.3.0,>=0.2.2->langgraph) (0.16.0)\n",
      "Requirement already satisfied: google-ai-generativelanguage<1.0.0,>=0.7.0 in c:\\users\\prasanth muppalla\\appdata\\local\\programs\\python\\python312\\lib\\site-packages (from langchain-google-genai) (0.9.0)\n",
      "Requirement already satisfied: filetype<2.0.0,>=1.2.0 in c:\\users\\prasanth muppalla\\appdata\\local\\programs\\python\\python312\\lib\\site-packages (from langchain-google-genai) (1.2.0)\n",
      "Requirement already satisfied: google-api-core!=2.0.*,!=2.1.*,!=2.10.*,!=2.2.*,!=2.3.*,!=2.4.*,!=2.5.*,!=2.6.*,!=2.7.*,!=2.8.*,!=2.9.*,<3.0.0,>=1.34.1 in c:\\users\\prasanth muppalla\\appdata\\local\\programs\\python\\python312\\lib\\site-packages (from google-api-core[grpc]!=2.0.*,!=2.1.*,!=2.10.*,!=2.2.*,!=2.3.*,!=2.4.*,!=2.5.*,!=2.6.*,!=2.7.*,!=2.8.*,!=2.9.*,<3.0.0,>=1.34.1->google-ai-generativelanguage<1.0.0,>=0.7.0->langchain-google-genai) (2.26.0)\n",
      "Requirement already satisfied: google-auth!=2.24.0,!=2.25.0,<3.0.0,>=2.14.1 in c:\\users\\prasanth muppalla\\appdata\\local\\programs\\python\\python312\\lib\\site-packages (from google-ai-generativelanguage<1.0.0,>=0.7.0->langchain-google-genai) (2.41.1)\n",
      "Requirement already satisfied: grpcio<2.0.0,>=1.33.2 in c:\\users\\prasanth muppalla\\appdata\\local\\programs\\python\\python312\\lib\\site-packages (from google-ai-generativelanguage<1.0.0,>=0.7.0->langchain-google-genai) (1.76.0)\n",
      "Requirement already satisfied: proto-plus<2.0.0,>=1.22.3 in c:\\users\\prasanth muppalla\\appdata\\local\\programs\\python\\python312\\lib\\site-packages (from google-ai-generativelanguage<1.0.0,>=0.7.0->langchain-google-genai) (1.26.1)\n",
      "Requirement already satisfied: protobuf!=4.21.0,!=4.21.1,!=4.21.2,!=4.21.3,!=4.21.4,!=4.21.5,<7.0.0,>=3.20.2 in c:\\users\\prasanth muppalla\\appdata\\local\\programs\\python\\python312\\lib\\site-packages (from google-ai-generativelanguage<1.0.0,>=0.7.0->langchain-google-genai) (5.29.5)\n",
      "Requirement already satisfied: googleapis-common-protos<2.0.0,>=1.56.2 in c:\\users\\prasanth muppalla\\appdata\\local\\programs\\python\\python312\\lib\\site-packages (from google-api-core!=2.0.*,!=2.1.*,!=2.10.*,!=2.2.*,!=2.3.*,!=2.4.*,!=2.5.*,!=2.6.*,!=2.7.*,!=2.8.*,!=2.9.*,<3.0.0,>=1.34.1->google-api-core[grpc]!=2.0.*,!=2.1.*,!=2.10.*,!=2.2.*,!=2.3.*,!=2.4.*,!=2.5.*,!=2.6.*,!=2.7.*,!=2.8.*,!=2.9.*,<3.0.0,>=1.34.1->google-ai-generativelanguage<1.0.0,>=0.7.0->langchain-google-genai) (1.71.0)\n",
      "Requirement already satisfied: grpcio-status<2.0.0,>=1.33.2 in c:\\users\\prasanth muppalla\\appdata\\local\\programs\\python\\python312\\lib\\site-packages (from google-api-core[grpc]!=2.0.*,!=2.1.*,!=2.10.*,!=2.2.*,!=2.3.*,!=2.4.*,!=2.5.*,!=2.6.*,!=2.7.*,!=2.8.*,!=2.9.*,<3.0.0,>=1.34.1->google-ai-generativelanguage<1.0.0,>=0.7.0->langchain-google-genai) (1.71.2)\n",
      "Requirement already satisfied: cachetools<7.0,>=2.0.0 in c:\\users\\prasanth muppalla\\appdata\\local\\programs\\python\\python312\\lib\\site-packages (from google-auth!=2.24.0,!=2.25.0,<3.0.0,>=2.14.1->google-ai-generativelanguage<1.0.0,>=0.7.0->langchain-google-genai) (6.2.1)\n",
      "Requirement already satisfied: pyasn1-modules>=0.2.1 in c:\\users\\prasanth muppalla\\appdata\\local\\programs\\python\\python312\\lib\\site-packages (from google-auth!=2.24.0,!=2.25.0,<3.0.0,>=2.14.1->google-ai-generativelanguage<1.0.0,>=0.7.0->langchain-google-genai) (0.4.2)\n",
      "Requirement already satisfied: rsa<5,>=3.1.4 in c:\\users\\prasanth muppalla\\appdata\\local\\programs\\python\\python312\\lib\\site-packages (from google-auth!=2.24.0,!=2.25.0,<3.0.0,>=2.14.1->google-ai-generativelanguage<1.0.0,>=0.7.0->langchain-google-genai) (4.9.1)\n",
      "Requirement already satisfied: charset-normalizer<4,>=2 in c:\\users\\prasanth muppalla\\appdata\\local\\programs\\python\\python312\\lib\\site-packages (from requests>=2.0.0->langsmith<1.0.0,>=0.3.45->langchain-core) (3.4.1)\n",
      "Requirement already satisfied: urllib3<3,>=1.21.1 in c:\\users\\prasanth muppalla\\appdata\\local\\programs\\python\\python312\\lib\\site-packages (from requests>=2.0.0->langsmith<1.0.0,>=0.3.45->langchain-core) (2.4.0)\n",
      "Requirement already satisfied: pyasn1>=0.1.3 in c:\\users\\prasanth muppalla\\appdata\\local\\programs\\python\\python312\\lib\\site-packages (from rsa<5,>=3.1.4->google-auth!=2.24.0,!=2.25.0,<3.0.0,>=2.14.1->google-ai-generativelanguage<1.0.0,>=0.7.0->langchain-google-genai) (0.6.1)\n",
      "Requirement already satisfied: sniffio>=1.1 in c:\\users\\prasanth muppalla\\appdata\\local\\programs\\python\\python312\\lib\\site-packages (from anyio->httpx>=0.25.2->langgraph-sdk<0.3.0,>=0.2.2->langgraph) (1.3.1)\n"
     ]
    }
   ],
   "source": [
    "!pip install -U langchain langchain-core langgraph pydantic langchain-google-genai python-dotenv\n"
   ]
  },
  {
   "cell_type": "code",
   "execution_count": 30,
   "id": "a36eec92",
   "metadata": {},
   "outputs": [],
   "source": [
    "from typing import Optional, Sequence, Annotated, Literal\n",
    "import operator\n",
    "from pydantic import BaseModel, Field\n",
    "from datetime import datetime\n",
    "import os\n",
    "from dotenv import load_dotenv\n",
    "from langgraph.graph import StateGraph, START, END\n",
    "from langgraph.graph.message import MessagesState, add_messages\n",
    "from langgraph.types import Command\n",
    "from langchain.chat_models import init_chat_model\n",
    "from langchain_core.messages import BaseMessage, HumanMessage, AIMessage, get_buffer_string\n"
   ]
  },
  {
   "cell_type": "code",
   "execution_count": 31,
   "id": "32aff2ff",
   "metadata": {},
   "outputs": [
    {
     "name": "stdout",
     "output_type": "stream",
     "text": [
      "✅ Google API Key Loaded: True\n"
     ]
    }
   ],
   "source": [
    "load_dotenv()\n",
    "print(\"✅ Google API Key Loaded:\", bool(os.getenv(\"GOOGLE_API_KEY\")))\n"
   ]
  },
  {
   "cell_type": "code",
   "execution_count": 32,
   "id": "7700bbca",
   "metadata": {},
   "outputs": [],
   "source": [
    "class AgentInputState(MessagesState):\n",
    "    pass\n",
    "\n",
    "class AgentState(MessagesState):\n",
    "    research_brief: Optional[str]\n",
    "    supervisor_messages: Annotated[Sequence[BaseMessage], add_messages]\n",
    "    raw_notes: Annotated[list[str], operator.add] = []\n",
    "    notes: Annotated[list[str], operator.add] = []\n",
    "    final_report: Optional[str]\n"
   ]
  },
  {
   "cell_type": "code",
   "execution_count": 33,
   "id": "30046877",
   "metadata": {},
   "outputs": [],
   "source": [
    "class ClarifyWithUser(BaseModel):\n",
    "    need_clarification: bool = Field(description=\"Whether clarification is needed\")\n",
    "    question: Optional[str] = Field(description=\"Question to ask the user for clarification\")\n",
    "    verification: Optional[str] = Field(description=\"Verification message confirming understanding\")\n",
    "\n",
    "class ResearchQuestion(BaseModel):\n",
    "    research_brief: str = Field(description=\"Comprehensive research brief\")\n"
   ]
  },
  {
   "cell_type": "markdown",
   "id": "759695ce",
   "metadata": {},
   "source": []
  },
  {
   "cell_type": "code",
   "execution_count": 34,
   "id": "c25a9983",
   "metadata": {},
   "outputs": [],
   "source": [
    "clarify_with_user_instructions = \"\"\"\n",
    "You are a research assistant helping to clarify research requests.\n",
    "Given the conversation history, determine if you need more information.\n",
    "\n",
    "Conversation History:\n",
    "{messages}\n",
    "\n",
    "Today's date: {date}\n",
    "\n",
    "If the request is clear enough to begin research, respond with:\n",
    "- need_clarification: false\n",
    "- verification: A brief confirmation of what you'll research\n",
    "- question: \"N/A\"\n",
    "\n",
    "If you need more information, respond with:\n",
    "- need_clarification: true\n",
    "- verification: \"N/A\"\n",
    "- question: A specific question to clarify the research needs\n",
    "\"\"\"\n",
    "\n",
    "transform_messages_into_research_topic_prompt = \"\"\"\n",
    "Based on the conversation history, create a comprehensive research brief.\n",
    "The brief should include:\n",
    "- Clear research objectives\n",
    "- Key questions to answer\n",
    "- Scope and limitations\n",
    "- Any specific requirements mentioned\n",
    "\n",
    "Conversation History:\n",
    "{messages}\n",
    "\n",
    "Today's date: {date}\n",
    "\"\"\"\n"
   ]
  },
  {
   "cell_type": "code",
   "execution_count": 47,
   "id": "58c44df8",
   "metadata": {},
   "outputs": [],
   "source": [
    "from datetime import datetime\n",
    "import platform\n",
    "\n",
    "def get_today_str() -> str:\n",
    "    day_format = \"%#d\" if platform.system() == \"Windows\" else \"%-d\"\n",
    "    return datetime.now().strftime(f\"%a %b {day_format}, %Y\")\n",
    "\n",
    "model = init_chat_model(\n",
    "    model=\"models/gemini-2.5-pro\",\n",
    "    model_provider=\"google_genai\",\n",
    "    temperature=0.0\n",
    ")\n"
   ]
  },
  {
   "cell_type": "code",
   "execution_count": 48,
   "id": "4b9376e5",
   "metadata": {},
   "outputs": [],
   "source": [
    "def clarify_with_user(state: AgentState) -> Command[Literal[\"write_research_brief\", \"__end__\"]]:\n",
    "    structured_output_model = model.with_structured_output(ClarifyWithUser)\n",
    "    response = structured_output_model.invoke([\n",
    "        HumanMessage(content=clarify_with_user_instructions.format(\n",
    "            messages=get_buffer_string(messages=state[\"messages\"]),\n",
    "            date=get_today_str()\n",
    "        ))\n",
    "    ])\n",
    "    if response.need_clarification:\n",
    "        return Command(goto=END, update={\"messages\": [AIMessage(content=response.question)]})\n",
    "    else:\n",
    "        return Command(goto=\"write_research_brief\", update={\"messages\": [AIMessage(content=response.verification)]})\n"
   ]
  },
  {
   "cell_type": "code",
   "execution_count": 49,
   "id": "ca3226f0",
   "metadata": {},
   "outputs": [],
   "source": [
    "def write_research_brief(state: AgentState):\n",
    "    structured_output_model = model.with_structured_output(ResearchQuestion)\n",
    "    response = structured_output_model.invoke([\n",
    "        HumanMessage(content=transform_messages_into_research_topic_prompt.format(\n",
    "            messages=get_buffer_string(state.get(\"messages\", [])),\n",
    "            date=get_today_str()\n",
    "        ))\n",
    "    ])\n",
    "    return {\n",
    "        \"research_brief\": response.research_brief,\n",
    "        \"supervisor_messages\": [HumanMessage(content=f\"{response.research_brief}.\")]\n",
    "    }\n"
   ]
  },
  {
   "cell_type": "code",
   "execution_count": 50,
   "id": "b8c59a0f",
   "metadata": {},
   "outputs": [],
   "source": [
    "deep_researcher_builder = StateGraph(AgentState, input_schema=AgentInputState)\n",
    "deep_researcher_builder.add_node(\"clarify_with_user\", clarify_with_user)\n",
    "deep_researcher_builder.add_node(\"write_research_brief\", write_research_brief)\n",
    "deep_researcher_builder.add_edge(START, \"clarify_with_user\")\n",
    "deep_researcher_builder.add_edge(\"write_research_brief\", END)\n",
    "scope_research = deep_researcher_builder.compile()\n"
   ]
  },
  {
   "cell_type": "code",
   "execution_count": 51,
   "id": "18475c02",
   "metadata": {},
   "outputs": [
    {
     "data": {
      "image/png": "[encoded data removed]",
      "text/plain": [
       "<IPython.core.display.Image object>"
      ]
     },
     "metadata": {},
     "output_type": "display_data"
    }
   ],
   "source": [
    "from langgraph.checkpoint.memory import InMemorySaver\n",
    "from IPython.display import Image, display\n",
    "\n",
    "checkpointer = InMemorySaver()\n",
    "scope = deep_researcher_builder.compile(checkpointer=checkpointer)\n",
    "display(Image(scope.get_graph(xray=True).draw_mermaid_png()))\n"
   ]
  },
  {
   "cell_type": "code",
   "execution_count": 52,
   "id": "17b6d736",
   "metadata": {},
   "outputs": [
    {
     "data": {
      "text/plain": [
       "{'messages': [HumanMessage(content='I want to research the best coffee shops in San Francisco.', additional_kwargs={}, response_metadata={}, id='eb0859f8-4570-4f01-8647-3fd6062f89bd'),\n",
       "  AIMessage(content='When you say \"best,\" what do you mean? For example, are you looking for the best-tasting coffee, the best Wi-Fi, or the best atmosphere?', additional_kwargs={}, response_metadata={}, id='9f171809-15e5-4249-b2e0-b392c4f52007')],\n",
       " 'supervisor_messages': [],\n",
       " 'raw_notes': [],\n",
       " 'notes': []}"
      ]
     },
     "execution_count": 52,
     "metadata": {},
     "output_type": "execute_result"
    }
   ],
   "source": [
    "result = scope.invoke(\n",
    "    {\n",
    "        \"messages\": [HumanMessage(content=\"I want to research the best coffee shops in San Francisco.\")]\n",
    "    },\n",
    "    config={\"configurable\": {\"thread_id\": \"test-thread-1\"}}\n",
    ")\n",
    "\n",
    "result\n"
   ]
  }
 ],
 "metadata": {
  "kernelspec": {
   "display_name": "Python 3",
   "language": "python",
   "name": "python3"
  },
  "language_info": {
   "codemirror_mode": {
    "name": "ipython",
    "version": 3
   },
   "file_extension": ".py",
   "mimetype": "text/x-python",
   "name": "python",
   "nbconvert_exporter": "python",
   "pygments_lexer": "ipython3",
   "version": "3.12.0"
  }
 },
 "nbformat": 4,
 "nbformat_minor": 5
}
