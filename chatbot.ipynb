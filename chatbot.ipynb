{
 "cells": [
  {
   "cell_type": "code",
   "execution_count": 1,
   "id": "5e8b89cd-298b-4834-b190-8dbb4977ac0f",
   "metadata": {},
   "outputs": [
    {
     "name": "stdout",
     "output_type": "stream",
     "text": [
      "Requirement already satisfied: google-generativeai in c:\\users\\prasanth muppalla\\appdata\\local\\programs\\python\\python312\\lib\\site-packages (0.8.5)\n",
      "Requirement already satisfied: langgraph in c:\\users\\prasanth muppalla\\appdata\\local\\programs\\python\\python312\\lib\\site-packages (1.0.1)\n",
      "Requirement already satisfied: python-dotenv in c:\\users\\prasanth muppalla\\appdata\\local\\programs\\python\\python312\\lib\\site-packages (1.0.1)\n",
      "Requirement already satisfied: google-ai-generativelanguage==0.6.15 in c:\\users\\prasanth muppalla\\appdata\\local\\programs\\python\\python312\\lib\\site-packages (from google-generativeai) (0.6.15)\n",
      "Requirement already satisfied: google-api-core in c:\\users\\prasanth muppalla\\appdata\\local\\programs\\python\\python312\\lib\\site-packages (from google-generativeai) (2.26.0)\n",
      "Requirement already satisfied: google-api-python-client in c:\\users\\prasanth muppalla\\appdata\\local\\programs\\python\\python312\\lib\\site-packages (from google-generativeai) (2.185.0)\n",
      "Requirement already satisfied: google-auth>=2.15.0 in c:\\users\\prasanth muppalla\\appdata\\local\\programs\\python\\python312\\lib\\site-packages (from google-generativeai) (2.41.1)\n",
      "Requirement already satisfied: protobuf in c:\\users\\prasanth muppalla\\appdata\\local\\programs\\python\\python312\\lib\\site-packages (from google-generativeai) (5.29.5)\n",
      "Requirement already satisfied: pydantic in c:\\users\\prasanth muppalla\\appdata\\local\\programs\\python\\python312\\lib\\site-packages (from google-generativeai) (2.11.10)\n",
      "Requirement already satisfied: tqdm in c:\\users\\prasanth muppalla\\appdata\\local\\programs\\python\\python312\\lib\\site-packages (from google-generativeai) (4.67.1)\n",
      "Requirement already satisfied: typing-extensions in c:\\users\\prasanth muppalla\\appdata\\local\\programs\\python\\python312\\lib\\site-packages (from google-generativeai) (4.12.2)\n",
      "Requirement already satisfied: proto-plus<2.0.0dev,>=1.22.3 in c:\\users\\prasanth muppalla\\appdata\\local\\programs\\python\\python312\\lib\\site-packages (from google-ai-generativelanguage==0.6.15->google-generativeai) (1.26.1)\n",
      "Requirement already satisfied: googleapis-common-protos<2.0.0,>=1.56.2 in c:\\users\\prasanth muppalla\\appdata\\local\\programs\\python\\python312\\lib\\site-packages (from google-api-core->google-generativeai) (1.71.0)\n",
      "Requirement already satisfied: requests<3.0.0,>=2.18.0 in c:\\users\\prasanth muppalla\\appdata\\local\\programs\\python\\python312\\lib\\site-packages (from google-api-core->google-generativeai) (2.32.3)\n",
      "Requirement already satisfied: grpcio<2.0.0,>=1.33.2 in c:\\users\\prasanth muppalla\\appdata\\local\\programs\\python\\python312\\lib\\site-packages (from google-api-core[grpc]!=2.0.*,!=2.1.*,!=2.10.*,!=2.2.*,!=2.3.*,!=2.4.*,!=2.5.*,!=2.6.*,!=2.7.*,!=2.8.*,!=2.9.*,<3.0.0dev,>=1.34.1->google-ai-generativelanguage==0.6.15->google-generativeai) (1.76.0)\n",
      "Requirement already satisfied: grpcio-status<2.0.0,>=1.33.2 in c:\\users\\prasanth muppalla\\appdata\\local\\programs\\python\\python312\\lib\\site-packages (from google-api-core[grpc]!=2.0.*,!=2.1.*,!=2.10.*,!=2.2.*,!=2.3.*,!=2.4.*,!=2.5.*,!=2.6.*,!=2.7.*,!=2.8.*,!=2.9.*,<3.0.0dev,>=1.34.1->google-ai-generativelanguage==0.6.15->google-generativeai) (1.71.2)\n",
      "Requirement already satisfied: cachetools<7.0,>=2.0.0 in c:\\users\\prasanth muppalla\\appdata\\local\\programs\\python\\python312\\lib\\site-packages (from google-auth>=2.15.0->google-generativeai) (6.2.1)\n",
      "Requirement already satisfied: pyasn1-modules>=0.2.1 in c:\\users\\prasanth muppalla\\appdata\\local\\programs\\python\\python312\\lib\\site-packages (from google-auth>=2.15.0->google-generativeai) (0.4.2)\n",
      "Requirement already satisfied: rsa<5,>=3.1.4 in c:\\users\\prasanth muppalla\\appdata\\local\\programs\\python\\python312\\lib\\site-packages (from google-auth>=2.15.0->google-generativeai) (4.9.1)\n",
      "Requirement already satisfied: charset-normalizer<4,>=2 in c:\\users\\prasanth muppalla\\appdata\\local\\programs\\python\\python312\\lib\\site-packages (from requests<3.0.0,>=2.18.0->google-api-core->google-generativeai) (3.4.1)\n",
      "Requirement already satisfied: idna<4,>=2.5 in c:\\users\\prasanth muppalla\\appdata\\local\\programs\\python\\python312\\lib\\site-packages (from requests<3.0.0,>=2.18.0->google-api-core->google-generativeai) (3.10)\n",
      "Requirement already satisfied: urllib3<3,>=1.21.1 in c:\\users\\prasanth muppalla\\appdata\\local\\programs\\python\\python312\\lib\\site-packages (from requests<3.0.0,>=2.18.0->google-api-core->google-generativeai) (2.4.0)\n",
      "Requirement already satisfied: certifi>=2017.4.17 in c:\\users\\prasanth muppalla\\appdata\\local\\programs\\python\\python312\\lib\\site-packages (from requests<3.0.0,>=2.18.0->google-api-core->google-generativeai) (2025.4.26)\n",
      "Requirement already satisfied: pyasn1>=0.1.3 in c:\\users\\prasanth muppalla\\appdata\\local\\programs\\python\\python312\\lib\\site-packages (from rsa<5,>=3.1.4->google-auth>=2.15.0->google-generativeai) (0.6.1)\n",
      "Requirement already satisfied: langchain-core>=0.1 in c:\\users\\prasanth muppalla\\appdata\\local\\programs\\python\\python312\\lib\\site-packages (from langgraph) (1.0.0)\n",
      "Requirement already satisfied: langgraph-checkpoint<4.0.0,>=2.1.0 in c:\\users\\prasanth muppalla\\appdata\\local\\programs\\python\\python312\\lib\\site-packages (from langgraph) (3.0.0)\n",
      "Requirement already satisfied: langgraph-prebuilt<1.1.0,>=1.0.0 in c:\\users\\prasanth muppalla\\appdata\\local\\programs\\python\\python312\\lib\\site-packages (from langgraph) (1.0.1)\n",
      "Requirement already satisfied: langgraph-sdk<0.3.0,>=0.2.2 in c:\\users\\prasanth muppalla\\appdata\\local\\programs\\python\\python312\\lib\\site-packages (from langgraph) (0.2.9)\n",
      "Requirement already satisfied: xxhash>=3.5.0 in c:\\users\\prasanth muppalla\\appdata\\local\\programs\\python\\python312\\lib\\site-packages (from langgraph) (3.6.0)\n",
      "Requirement already satisfied: ormsgpack>=1.10.0 in c:\\users\\prasanth muppalla\\appdata\\local\\programs\\python\\python312\\lib\\site-packages (from langgraph-checkpoint<4.0.0,>=2.1.0->langgraph) (1.11.0)\n",
      "Requirement already satisfied: httpx>=0.25.2 in c:\\users\\prasanth muppalla\\appdata\\local\\programs\\python\\python312\\lib\\site-packages (from langgraph-sdk<0.3.0,>=0.2.2->langgraph) (0.28.1)\n",
      "Requirement already satisfied: orjson>=3.10.1 in c:\\users\\prasanth muppalla\\appdata\\local\\programs\\python\\python312\\lib\\site-packages (from langgraph-sdk<0.3.0,>=0.2.2->langgraph) (3.11.3)\n",
      "Requirement already satisfied: anyio in c:\\users\\prasanth muppalla\\appdata\\local\\programs\\python\\python312\\lib\\site-packages (from httpx>=0.25.2->langgraph-sdk<0.3.0,>=0.2.2->langgraph) (4.9.0)\n",
      "Requirement already satisfied: httpcore==1.* in c:\\users\\prasanth muppalla\\appdata\\local\\programs\\python\\python312\\lib\\site-packages (from httpx>=0.25.2->langgraph-sdk<0.3.0,>=0.2.2->langgraph) (1.0.9)\n",
      "Requirement already satisfied: h11>=0.16 in c:\\users\\prasanth muppalla\\appdata\\local\\programs\\python\\python312\\lib\\site-packages (from httpcore==1.*->httpx>=0.25.2->langgraph-sdk<0.3.0,>=0.2.2->langgraph) (0.16.0)\n",
      "Requirement already satisfied: jsonpatch<2.0.0,>=1.33.0 in c:\\users\\prasanth muppalla\\appdata\\local\\programs\\python\\python312\\lib\\site-packages (from langchain-core>=0.1->langgraph) (1.33)\n",
      "Requirement already satisfied: langsmith<1.0.0,>=0.3.45 in c:\\users\\prasanth muppalla\\appdata\\local\\programs\\python\\python312\\lib\\site-packages (from langchain-core>=0.1->langgraph) (0.4.37)\n",
      "Requirement already satisfied: packaging<26.0.0,>=23.2.0 in c:\\users\\prasanth muppalla\\appdata\\local\\programs\\python\\python312\\lib\\site-packages (from langchain-core>=0.1->langgraph) (23.2)\n",
      "Requirement already satisfied: pyyaml<7.0.0,>=5.3.0 in c:\\users\\prasanth muppalla\\appdata\\local\\programs\\python\\python312\\lib\\site-packages (from langchain-core>=0.1->langgraph) (6.0.2)\n",
      "Requirement already satisfied: tenacity!=8.4.0,<10.0.0,>=8.1.0 in c:\\users\\prasanth muppalla\\appdata\\local\\programs\\python\\python312\\lib\\site-packages (from langchain-core>=0.1->langgraph) (8.5.0)\n",
      "Requirement already satisfied: jsonpointer>=1.9 in c:\\users\\prasanth muppalla\\appdata\\local\\programs\\python\\python312\\lib\\site-packages (from jsonpatch<2.0.0,>=1.33.0->langchain-core>=0.1->langgraph) (3.0.0)\n",
      "Requirement already satisfied: requests-toolbelt>=1.0.0 in c:\\users\\prasanth muppalla\\appdata\\local\\programs\\python\\python312\\lib\\site-packages (from langsmith<1.0.0,>=0.3.45->langchain-core>=0.1->langgraph) (1.0.0)\n",
      "Requirement already satisfied: zstandard>=0.23.0 in c:\\users\\prasanth muppalla\\appdata\\local\\programs\\python\\python312\\lib\\site-packages (from langsmith<1.0.0,>=0.3.45->langchain-core>=0.1->langgraph) (0.25.0)\n",
      "Requirement already satisfied: annotated-types>=0.6.0 in c:\\users\\prasanth muppalla\\appdata\\local\\programs\\python\\python312\\lib\\site-packages (from pydantic->google-generativeai) (0.7.0)\n",
      "Requirement already satisfied: pydantic-core==2.33.2 in c:\\users\\prasanth muppalla\\appdata\\local\\programs\\python\\python312\\lib\\site-packages (from pydantic->google-generativeai) (2.33.2)\n",
      "Requirement already satisfied: typing-inspection>=0.4.0 in c:\\users\\prasanth muppalla\\appdata\\local\\programs\\python\\python312\\lib\\site-packages (from pydantic->google-generativeai) (0.4.2)\n",
      "Requirement already satisfied: sniffio>=1.1 in c:\\users\\prasanth muppalla\\appdata\\local\\programs\\python\\python312\\lib\\site-packages (from anyio->httpx>=0.25.2->langgraph-sdk<0.3.0,>=0.2.2->langgraph) (1.3.1)\n",
      "Requirement already satisfied: httplib2<1.0.0,>=0.19.0 in c:\\users\\prasanth muppalla\\appdata\\local\\programs\\python\\python312\\lib\\site-packages (from google-api-python-client->google-generativeai) (0.31.0)\n",
      "Requirement already satisfied: google-auth-httplib2<1.0.0,>=0.2.0 in c:\\users\\prasanth muppalla\\appdata\\local\\programs\\python\\python312\\lib\\site-packages (from google-api-python-client->google-generativeai) (0.2.0)\n",
      "Requirement already satisfied: uritemplate<5,>=3.0.1 in c:\\users\\prasanth muppalla\\appdata\\local\\programs\\python\\python312\\lib\\site-packages (from google-api-python-client->google-generativeai) (4.2.0)\n",
      "Requirement already satisfied: pyparsing<4,>=3.0.4 in c:\\users\\prasanth muppalla\\appdata\\local\\programs\\python\\python312\\lib\\site-packages (from httplib2<1.0.0,>=0.19.0->google-api-python-client->google-generativeai) (3.2.5)\n",
      "Requirement already satisfied: colorama in c:\\users\\prasanth muppalla\\appdata\\local\\programs\\python\\python312\\lib\\site-packages (from tqdm->google-generativeai) (0.4.6)\n",
      "Note: you may need to restart the kernel to use updated packages.\n"
     ]
    }
   ],
   "source": [
    "%pip install google-generativeai langgraph python-dotenv"
   ]
  },
  {
   "cell_type": "code",
   "execution_count": 2,
   "id": "95ffddcc-f00a-4aff-8b0a-44f98b093788",
   "metadata": {},
   "outputs": [],
   "source": [
    "from typing import TypedDict, List\n",
    "from langgraph.graph import StateGraph\n",
    "from langgraph.constants import START, END\n",
    "from dotenv import load_dotenv\n",
    "import google.generativeai as genai\n",
    "import os\n"
   ]
  },
  {
   "cell_type": "code",
   "execution_count": null,
   "id": "4f3a7303-b7eb-4569-b817-c6a6d6f9c3e7",
   "metadata": {},
   "outputs": [],
   "source": [
    "load_dotenv()\n",
    "api_key = os.getenv(\"GOOGLE_API_KEY\")\n",
    "\n",
    "if not api_key:\n",
    "    raise ValueError(\" GOOGLE_API_KEY not found in environment. Make sure it's in your .env file.\")\n",
    "\n",
    "genai.configure(api_key=api_key)\n"
   ]
  },
  {
   "cell_type": "code",
   "execution_count": null,
   "id": "7a0cf9cc-5f64-457a-9edc-a426d22dea7d",
   "metadata": {},
   "outputs": [],
   "source": [
    "\n",
    "class ChatState(TypedDict):\n",
    "    messages: List[str]"
   ]
  },
  {
   "cell_type": "code",
   "execution_count": 13,
   "id": "41b17280-895a-4788-b20b-869e631bfd67",
   "metadata": {},
   "outputs": [],
   "source": [
    "def chatbot_node(state: ChatState) -> ChatState:\n",
    "    model = genai.GenerativeModel(\"gemini-2.0-flash\")\n",
    "    user_message = state[\"messages\"][-1]\n",
    "    response = model.generate_content(user_message)\n",
    "    return {\"messages\": state[\"messages\"] + [response.text]}"
   ]
  },
  {
   "cell_type": "code",
   "execution_count": null,
   "id": "f6518fb2-2c96-4ea7-9ccd-08bdf05d4f77",
   "metadata": {},
   "outputs": [
    {
     "data": {
      "text/plain": [
       "<langgraph.graph.state.StateGraph at 0x2add5ff67b0>"
      ]
     },
     "execution_count": 14,
     "metadata": {},
     "output_type": "execute_result"
    }
   ],
   "source": [
    "graph = StateGraph(ChatState)\n",
    "graph.add_node(\"chatbot\", chatbot_node)\n",
    "graph.add_edge(START, \"chatbot\")\n",
    "graph.add_edge(\"chatbot\", END)"
   ]
  },
  {
   "cell_type": "code",
   "execution_count": 23,
   "id": "b7dffb22-1711-4dab-a214-1fd2da3dbac2",
   "metadata": {
    "scrolled": true
   },
   "outputs": [
    {
     "name": "stdout",
     "output_type": "stream",
     "text": [
      "Chatbot: Langchain is a framework designed for developing applications powered by large language models (LLMs). It provides tools, components, and interfaces to simplify the process of building complex LLM-powered applications, such as:\n",
      "\n",
      "*   **Chatbots:** Conversational agents that can answer questions, provide information, and complete tasks.\n",
      "*   **Question Answering Systems:** Systems that can answer questions based on a knowledge base.\n",
      "*   **Summarization Tools:** Tools that can summarize large documents or articles.\n",
      "*   **Data Generation Tools:** Tools that can generate new data, such as text, code, or images.\n",
      "*   **Agents:** Intelligent systems that can make decisions and take actions to achieve a goal.\n",
      "\n",
      "Here's a breakdown of key aspects of Langchain:\n",
      "\n",
      "**Core Components and Concepts:**\n",
      "\n",
      "*   **Models:** Langchain provides interfaces to interact with various LLMs, including OpenAI, Google's PaLM, Hugging Face models, and more. It allows you to easily switch between different models and experiment with their capabilities.\n",
      "*   **Prompts:**  Crafting effective prompts is crucial for LLM applications. Langchain offers tools for prompt management, optimization, and serialization. This includes:\n",
      "    *   **Prompt Templates:** Reusable prompts with placeholders for dynamic content.\n",
      "    *   **Example Selectors:** Choose relevant examples to include in the prompt for few-shot learning.\n",
      "*   **Chains:** Chains are sequences of calls to LLMs or other utilities. They represent a series of operations that are executed in a specific order.  A simple chain might take a user input, feed it to an LLM, and then return the LLM's output. More complex chains can involve multiple LLMs, data transformations, and external tools.  Examples include:\n",
      "    *   **LLMChain:** The most basic chain, running a single LLM.\n",
      "    *   **Sequential Chains:** Execute multiple chains in a specific order.\n",
      "    *   **Router Chains:**  Route the input to different chains based on predefined criteria.\n",
      "*   **Data Connection/Retrieval:** Langchain excels at connecting LLMs to external data sources. This allows LLMs to access up-to-date information and perform tasks that require external knowledge.  Key components include:\n",
      "    *   **Document Loaders:** Load data from various sources, such as websites, PDFs, databases, and more.\n",
      "    *   **Text Splitters:** Split large documents into smaller chunks for efficient processing by LLMs.\n",
      "    *   **Vectorstores:** Store and retrieve text embeddings for semantic search and retrieval.  Common vectorstores include Chroma, FAISS, and Pinecone.\n",
      "    *   **Embeddings:** Create numerical representations of text for semantic similarity comparisons.\n",
      "*   **Agents:** Agents are more sophisticated than chains. They use an LLM to decide which actions to take based on a given input.  They have access to a set of tools and can use these tools to interact with the environment and achieve a goal. Agents typically involve:\n",
      "    *   **Tools:** Functions that agents can use to interact with the outside world (e.g., a search engine, a calculator, a database connection).\n",
      "    *   **Toolkits:** Collections of related tools.\n",
      "    *   **Agent Executor:**  Manages the execution of the agent, coordinating the LLM's decisions and the use of tools.\n",
      "*   **Memory:**  Langchain provides mechanisms for storing and retrieving information from previous interactions. This allows LLMs to maintain context and provide more personalized and relevant responses in conversational applications.  Different memory types include:\n",
      "    *   **ConversationBufferMemory:** Stores all conversation history in a buffer.\n",
      "    *   **ConversationSummaryMemory:** Summarizes the conversation history.\n",
      "    *   **ConversationBufferWindowMemory:** Stores a limited window of recent conversation history.\n",
      "\n",
      "**Key Benefits of Using Langchain:**\n",
      "\n",
      "*   **Simplified Development:** Langchain provides a high-level abstraction over LLMs, making it easier to build complex applications without having to deal with the low-level details of the models.\n",
      "*   **Modular Design:** Langchain is built on a modular design, allowing you to easily combine different components and customize your applications.\n",
      "*   **Flexibility:** Langchain supports a wide range of LLMs, data sources, and tools, giving you the flexibility to choose the best options for your specific needs.\n",
      "*   **Community Support:** Langchain has a vibrant and active community, providing support, examples, and contributions.\n",
      "*   **Rapid Prototyping:**  The pre-built components and abstractions enable quick experimentation and iteration.\n",
      "\n",
      "**Example Use Cases:**\n",
      "\n",
      "*   **Customer Service Chatbots:**  Using Langchain to build chatbots that can answer customer questions, resolve issues, and provide support.\n",
      "*   **Document Summarization:**  Using Langchain to build tools that can automatically summarize large documents, articles, and reports.\n",
      "*   **Code Generation:**  Using Langchain to build tools that can generate code based on natural language descriptions.\n",
      "*   **Personalized Learning:** Using Langchain to create personalized learning experiences that adapt to the individual needs of each student.\n",
      "*   **Data Analysis and Insights:** Using Langchain to extract insights from data by combining LLMs with data analysis tools.\n",
      "\n",
      "**Where to Learn More:**\n",
      "\n",
      "*   **Langchain Documentation:**  The official documentation is the best place to start: [https://python.langchain.com/](https://python.langchain.com/)\n",
      "*   **Langchain GitHub Repository:**  Explore the source code, examples, and community contributions: [https://github.com/langchain-ai/langchain](https://github.com/langchain-ai/langchain)\n",
      "*   **Langchain Blog:**  Stay up-to-date with the latest news, features, and tutorials: [https://blog.langchain.dev/](https://blog.langchain.dev/)\n",
      "*   **Online Courses and Tutorials:**  Many online platforms offer courses and tutorials on Langchain.\n",
      "\n",
      "In summary, Langchain is a powerful framework that simplifies the development of LLM-powered applications by providing a comprehensive set of tools, components, and interfaces.  It's a valuable resource for developers looking to leverage the power of LLMs to build innovative and intelligent applications.\n",
      "\n"
     ]
    }
   ],
   "source": [
    "app = graph.compile()\n",
    "final_state = app.invoke({\"messages\": [\"what do you know about the langchain?\"]})\n",
    "print(\"Chatbot:\", final_state[\"messages\"][-1])"
   ]
  }
 ],
 "metadata": {
  "kernelspec": {
   "display_name": "Python 3 (ipykernel)",
   "language": "python",
   "name": "python3"
  },
  "language_info": {
   "codemirror_mode": {
    "name": "ipython",
    "version": 3
   },
   "file_extension": ".py",
   "mimetype": "text/x-python",
   "name": "python",
   "nbconvert_exporter": "python",
   "pygments_lexer": "ipython3",
   "version": "3.12.0"
  }
 },
 "nbformat": 4,
 "nbformat_minor": 5
}
