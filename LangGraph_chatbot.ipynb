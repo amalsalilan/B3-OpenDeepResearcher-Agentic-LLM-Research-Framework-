{
 "cells": [
  {
   "cell_type": "code",
   "execution_count": 1,
   "id": "6f1eb4b2",
   "metadata": {},
   "outputs": [],
   "source": [
    "from typing import Annotated, List\n",
    "from typing_extensions import TypedDict\n",
    "from langgraph.graph import StateGraph, START, END, add_messages\n",
    "from langgraph.graph.message import add_messages\n",
    "from dotenv import load_dotenv\n",
    "import os"
   ]
  },
  {
   "cell_type": "code",
   "execution_count": 2,
   "id": "f30a3a01",
   "metadata": {},
   "outputs": [],
   "source": [
    "load_dotenv()\n",
    "api_key = os.getenv(\"GOOGLE_API_KEY\")"
   ]
  },
  {
   "cell_type": "code",
   "execution_count": 10,
   "id": "c8e048b2",
   "metadata": {},
   "outputs": [],
   "source": [
    "from langchain.chat_models import init_chat_model\n",
    "llm=init_chat_model(\"google_genai:gemini-2.0-flash\")"
   ]
  },
  {
   "cell_type": "code",
   "execution_count": 4,
   "id": "1f102870",
   "metadata": {},
   "outputs": [],
   "source": [
    "class State(TypedDict):\n",
    "    messages : Annotated[List[dict],add_messages]"
   ]
  },
  {
   "cell_type": "code",
   "execution_count": 5,
   "id": "7a72e6aa",
   "metadata": {},
   "outputs": [],
   "source": [
    "graph_builder = StateGraph(State)"
   ]
  },
  {
   "cell_type": "code",
   "execution_count": 6,
   "id": "fc1018f5",
   "metadata": {},
   "outputs": [],
   "source": [
    "def chat_bot(state: State):\n",
    "    response = llm.invoke(state[\"messages\"])\n",
    "    return {\"messages\": [response]} "
   ]
  },
  {
   "cell_type": "code",
   "execution_count": 7,
   "id": "bbfd2d51",
   "metadata": {},
   "outputs": [
    {
     "data": {
      "text/plain": [
       "<langgraph.graph.state.StateGraph at 0x1b3174f02f0>"
      ]
     },
     "execution_count": 7,
     "metadata": {},
     "output_type": "execute_result"
    }
   ],
   "source": [
    "graph_builder.add_node(\"chatbot\", chat_bot)      \n",
    "graph_builder.add_edge(START, \"chatbot\")         \n",
    "graph_builder.add_edge(\"chatbot\", END)           "
   ]
  },
  {
   "cell_type": "code",
   "execution_count": 8,
   "id": "18b5067e",
   "metadata": {},
   "outputs": [],
   "source": [
    "graph = graph_builder.compile()"
   ]
  },
  {
   "cell_type": "code",
   "execution_count": 11,
   "id": "135332c3",
   "metadata": {},
   "outputs": [
    {
     "name": "stdout",
     "output_type": "stream",
     "text": [
      "-----------------------------------------------------------------------\n",
      "LangGraph is a framework developed by LangChain for building **stateful, multi-actor conversational applications**. It's designed to make it easier to create complex conversational flows that involve multiple agents, tools, and decision points. Think of it as a way to orchestrate and manage intricate conversations beyond simple turn-based interactions.\n",
      "\n",
      "Here's a breakdown of key aspects of LangGraph:\n",
      "\n",
      "**Core Concepts:**\n",
      "\n",
      "*   **State:**  LangGraph is inherently stateful. This means it tracks the conversation's progress, remembers past interactions, and uses this information to inform future actions. This is crucial for creating coherent and context-aware conversations. The state is typically a dictionary-like object that stores all the relevant information about the conversation.\n",
      "\n",
      "*   **Nodes:**  Nodes are the fundamental building blocks of a LangGraph. Each node represents a specific action or step in the conversation. Common types of nodes include:\n",
      "    *   **Agents:**  Nodes that represent individual agents with specific roles and capabilities (e.g., a sales agent, a customer support agent). Agents can use tools, access knowledge bases, and interact with users.\n",
      "    *   **Tools:** Nodes that represent external tools or APIs that agents can use (e.g., a search engine, a calculator, a database connector).\n",
      "    *   **Functions:** Nodes that execute Python functions to perform specific tasks (e.g., data processing, decision-making).\n",
      "    *   **Conditional Nodes:** Nodes that determine the next step in the conversation based on certain conditions (e.g., user input, the result of a tool call).\n",
      "    *   **Message Nodes:** Nodes to send messages to the user.\n",
      "\n",
      "*   **Edges:**  Edges connect nodes together, defining the flow of the conversation.  They specify which node should be executed next based on the current state.  There are different types of edges:\n",
      "    *   **Direct Edges:**  A simple connection that always leads to the specified node.\n",
      "    *   **Conditional Edges:**  Edges that lead to different nodes based on the outcome of a conditional function or other criteria.\n",
      "\n",
      "*   **Graph:** The graph itself is the overall structure that connects all the nodes and edges together.  It defines the entire conversational flow.  You define the graph by specifying the nodes, edges, and a starting node.\n",
      "\n",
      "**Key Features and Benefits:**\n",
      "\n",
      "*   **Modularity:** LangGraph promotes modularity by allowing you to break down complex conversations into smaller, reusable components (nodes).\n",
      "*   **Flexibility:** It's highly flexible and can be adapted to a wide range of conversational applications, from simple chatbots to complex multi-agent systems.\n",
      "*   **State Management:**  The built-in state management capabilities make it easy to track the conversation's progress and maintain context.\n",
      "*   **Agent Orchestration:**  LangGraph simplifies the process of orchestrating multiple agents, allowing them to collaborate and work together to achieve a common goal.\n",
      "*   **Tool Integration:**  It provides a seamless way to integrate external tools and APIs into your conversational flows.\n",
      "*   **Debugging and Monitoring:**  LangGraph provides tools for debugging and monitoring your conversational applications, making it easier to identify and fix issues.\n",
      "*   **Integration with LangChain:** LangGraph is built on top of LangChain and integrates seamlessly with its other components, such as LLMs, prompts, and memory.\n",
      "\n",
      "**Use Cases:**\n",
      "\n",
      "*   **Multi-Agent Systems:**  Creating systems where multiple agents collaborate to solve a problem or achieve a goal.\n",
      "*   **Complex Customer Service Bots:** Building bots that can handle complex customer inquiries and provide personalized support.\n",
      "*   **Workflow Automation:** Automating tasks that involve multiple steps and decision points.\n",
      "*   **Interactive Games:**  Creating interactive games with complex storylines and character interactions.\n",
      "*   **Research and Experimentation:**  Providing a platform for researchers to experiment with different conversational AI techniques.\n",
      "\n",
      "**How it Works (Simplified Example):**\n",
      "\n",
      "Imagine building a simple weather chatbot:\n",
      "\n",
      "1.  **Define Nodes:**\n",
      "    *   `User Input Node`:  Gets the user's location input.\n",
      "    *   `Weather API Tool Node`:  Calls a weather API to get the weather forecast for the specified location.\n",
      "    *   `Response Node`:  Generates a response to the user based on the weather forecast.\n",
      "2.  **Define Edges:**\n",
      "    *   `Start -> User Input Node`\n",
      "    *   `User Input Node -> Weather API Tool Node`\n",
      "    *   `Weather API Tool Node -> Response Node`\n",
      "    *   `Response Node -> End` (or potentially back to `User Input Node` for another query)\n",
      "3.  **Create Graph:**  Combine the nodes and edges into a LangGraph.\n",
      "4.  **Run Graph:**  Start the graph and interact with the chatbot. The graph will automatically execute the nodes and follow the edges, providing the user with the weather forecast.\n",
      "\n",
      "**Comparison to LangChain Chains:**\n",
      "\n",
      "While LangChain Chains are useful for simple sequential tasks, LangGraph excels in handling more complex, non-linear conversational flows.  LangGraph allows for branching, looping, and conditional logic, making it suitable for applications that require more sophisticated decision-making and state management. Chains are more linear and less flexible.\n",
      "\n",
      "**In summary, LangGraph is a powerful framework for building stateful, multi-actor conversational applications.  It provides a flexible and modular way to orchestrate complex conversations, making it easier to create intelligent and engaging user experiences.**\n",
      "\n",
      "To learn more, refer to the official LangChain documentation and examples, which provide detailed information and practical guidance on using LangGraph.  Search for \"LangGraph\" within the LangChain documentation. You'll find tutorials, API references, and examples to help you get started.\n"
     ]
    }
   ],
   "source": [
    "result = graph.invoke({\"messages\": [{\"role\": \"user\", \"content\": \"What do you know about LangGraph?\"}]})\n",
    "print(\"-----------------------------------------------------------------------\")\n",
    "print(result[\"messages\"][-1].content)"
   ]
  },
  {
   "cell_type": "code",
   "execution_count": null,
   "id": "a4458c9c",
   "metadata": {},
   "outputs": [],
   "source": []
  }
 ],
 "metadata": {
  "kernelspec": {
   "display_name": "venv",
   "language": "python",
   "name": "python3"
  },
  "language_info": {
   "codemirror_mode": {
    "name": "ipython",
    "version": 3
   },
   "file_extension": ".py",
   "mimetype": "text/x-python",
   "name": "python",
   "nbconvert_exporter": "python",
   "pygments_lexer": "ipython3",
   "version": "3.12.7"
  }
 },
 "nbformat": 4,
 "nbformat_minor": 5
}
