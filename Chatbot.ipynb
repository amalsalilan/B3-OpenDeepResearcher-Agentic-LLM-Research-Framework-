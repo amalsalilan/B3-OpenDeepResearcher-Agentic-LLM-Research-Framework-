{
 "cells": [
  {
   "cell_type": "code",
   "execution_count": 1,
   "id": "c132c8c3-2183-4f79-a6aa-f901c7174e28",
   "metadata": {
    "scrolled": true
   },
   "outputs": [
    {
     "name": "stdout",
     "output_type": "stream",
     "text": [
      "Requirement already satisfied: google-generativeai in d:\\anaconda\\lib\\site-packages (0.8.5)\n",
      "Requirement already satisfied: langgraph in d:\\anaconda\\lib\\site-packages (1.0.1)\n",
      "Requirement already satisfied: python-dotenv in c:\\users\\murugavel v\\appdata\\roaming\\python\\python312\\site-packages (1.0.1)\n",
      "Collecting google-ai-generativelanguage==0.6.15 (from google-generativeai)\n",
      "  Using cached google_ai_generativelanguage-0.6.15-py3-none-any.whl.metadata (5.7 kB)\n",
      "Requirement already satisfied: google-api-core in d:\\anaconda\\lib\\site-packages (from google-generativeai) (2.25.1)\n",
      "Requirement already satisfied: google-api-python-client in d:\\anaconda\\lib\\site-packages (from google-generativeai) (2.174.0)\n",
      "Requirement already satisfied: google-auth>=2.15.0 in d:\\anaconda\\lib\\site-packages (from google-generativeai) (2.40.3)\n",
      "Requirement already satisfied: protobuf in c:\\users\\murugavel v\\appdata\\roaming\\python\\python312\\site-packages (from google-generativeai) (5.29.5)\n",
      "Requirement already satisfied: pydantic in c:\\users\\murugavel v\\appdata\\roaming\\python\\python312\\site-packages (from google-generativeai) (2.10.4)\n",
      "Requirement already satisfied: tqdm in c:\\users\\murugavel v\\appdata\\roaming\\python\\python312\\site-packages (from google-generativeai) (4.66.5)\n",
      "Requirement already satisfied: typing-extensions in c:\\users\\murugavel v\\appdata\\roaming\\python\\python312\\site-packages (from google-generativeai) (4.12.2)\n",
      "Requirement already satisfied: proto-plus<2.0.0dev,>=1.22.3 in d:\\anaconda\\lib\\site-packages (from google-ai-generativelanguage==0.6.15->google-generativeai) (1.26.1)\n",
      "Requirement already satisfied: googleapis-common-protos<2.0.0,>=1.56.2 in d:\\anaconda\\lib\\site-packages (from google-api-core->google-generativeai) (1.70.0)\n",
      "Requirement already satisfied: requests<3.0.0,>=2.18.0 in c:\\users\\murugavel v\\appdata\\roaming\\python\\python312\\site-packages (from google-api-core->google-generativeai) (2.32.3)\n",
      "Requirement already satisfied: grpcio<2.0.0,>=1.33.2 in d:\\anaconda\\lib\\site-packages (from google-api-core[grpc]!=2.0.*,!=2.1.*,!=2.10.*,!=2.2.*,!=2.3.*,!=2.4.*,!=2.5.*,!=2.6.*,!=2.7.*,!=2.8.*,!=2.9.*,<3.0.0dev,>=1.34.1->google-ai-generativelanguage==0.6.15->google-generativeai) (1.73.1)\n",
      "Requirement already satisfied: grpcio-status<2.0.0,>=1.33.2 in d:\\anaconda\\lib\\site-packages (from google-api-core[grpc]!=2.0.*,!=2.1.*,!=2.10.*,!=2.2.*,!=2.3.*,!=2.4.*,!=2.5.*,!=2.6.*,!=2.7.*,!=2.8.*,!=2.9.*,<3.0.0dev,>=1.34.1->google-ai-generativelanguage==0.6.15->google-generativeai) (1.71.0)\n",
      "Requirement already satisfied: cachetools<6.0,>=2.0.0 in c:\\users\\murugavel v\\appdata\\roaming\\python\\python312\\site-packages (from google-auth>=2.15.0->google-generativeai) (5.5.0)\n",
      "Requirement already satisfied: pyasn1-modules>=0.2.1 in d:\\anaconda\\lib\\site-packages (from google-auth>=2.15.0->google-generativeai) (0.2.8)\n",
      "Requirement already satisfied: rsa<5,>=3.1.4 in d:\\anaconda\\lib\\site-packages (from google-auth>=2.15.0->google-generativeai) (4.9.1)\n",
      "Requirement already satisfied: charset-normalizer<4,>=2 in c:\\users\\murugavel v\\appdata\\roaming\\python\\python312\\site-packages (from requests<3.0.0,>=2.18.0->google-api-core->google-generativeai) (3.3.2)\n",
      "Requirement already satisfied: idna<4,>=2.5 in c:\\users\\murugavel v\\appdata\\roaming\\python\\python312\\site-packages (from requests<3.0.0,>=2.18.0->google-api-core->google-generativeai) (3.7)\n",
      "Requirement already satisfied: urllib3<3,>=1.21.1 in c:\\users\\murugavel v\\appdata\\roaming\\python\\python312\\site-packages (from requests<3.0.0,>=2.18.0->google-api-core->google-generativeai) (2.2.2)\n",
      "Requirement already satisfied: certifi>=2017.4.17 in c:\\users\\murugavel v\\appdata\\roaming\\python\\python312\\site-packages (from requests<3.0.0,>=2.18.0->google-api-core->google-generativeai) (2024.7.4)\n",
      "Requirement already satisfied: pyasn1>=0.1.3 in d:\\anaconda\\lib\\site-packages (from rsa<5,>=3.1.4->google-auth>=2.15.0->google-generativeai) (0.4.8)\n",
      "Requirement already satisfied: langchain-core>=0.1 in d:\\anaconda\\lib\\site-packages (from langgraph) (1.0.0)\n",
      "Requirement already satisfied: langgraph-checkpoint<4.0.0,>=2.1.0 in d:\\anaconda\\lib\\site-packages (from langgraph) (3.0.0)\n",
      "Requirement already satisfied: langgraph-prebuilt<1.1.0,>=1.0.0 in d:\\anaconda\\lib\\site-packages (from langgraph) (1.0.1)\n",
      "Requirement already satisfied: langgraph-sdk<0.3.0,>=0.2.2 in d:\\anaconda\\lib\\site-packages (from langgraph) (0.2.9)\n",
      "Requirement already satisfied: xxhash>=3.5.0 in d:\\anaconda\\lib\\site-packages (from langgraph) (3.5.0)\n",
      "Requirement already satisfied: ormsgpack>=1.10.0 in d:\\anaconda\\lib\\site-packages (from langgraph-checkpoint<4.0.0,>=2.1.0->langgraph) (1.11.0)\n",
      "Requirement already satisfied: httpx>=0.25.2 in d:\\anaconda\\lib\\site-packages (from langgraph-sdk<0.3.0,>=0.2.2->langgraph) (0.26.0)\n",
      "Requirement already satisfied: orjson>=3.10.1 in c:\\users\\murugavel v\\appdata\\roaming\\python\\python312\\site-packages (from langgraph-sdk<0.3.0,>=0.2.2->langgraph) (3.10.18)\n",
      "Requirement already satisfied: anyio in d:\\anaconda\\lib\\site-packages (from httpx>=0.25.2->langgraph-sdk<0.3.0,>=0.2.2->langgraph) (4.11.0)\n",
      "Requirement already satisfied: httpcore==1.* in c:\\users\\murugavel v\\appdata\\roaming\\python\\python312\\site-packages (from httpx>=0.25.2->langgraph-sdk<0.3.0,>=0.2.2->langgraph) (1.0.5)\n",
      "Requirement already satisfied: sniffio in c:\\users\\murugavel v\\appdata\\roaming\\python\\python312\\site-packages (from httpx>=0.25.2->langgraph-sdk<0.3.0,>=0.2.2->langgraph) (1.3.1)\n",
      "Requirement already satisfied: h11<0.15,>=0.13 in c:\\users\\murugavel v\\appdata\\roaming\\python\\python312\\site-packages (from httpcore==1.*->httpx>=0.25.2->langgraph-sdk<0.3.0,>=0.2.2->langgraph) (0.14.0)\n",
      "Requirement already satisfied: jsonpatch<2.0.0,>=1.33.0 in c:\\users\\murugavel v\\appdata\\roaming\\python\\python312\\site-packages (from langchain-core>=0.1->langgraph) (1.33)\n",
      "Requirement already satisfied: langsmith<1.0.0,>=0.3.45 in c:\\users\\murugavel v\\appdata\\roaming\\python\\python312\\site-packages (from langchain-core>=0.1->langgraph) (0.4.2)\n",
      "Requirement already satisfied: packaging<26.0.0,>=23.2.0 in c:\\users\\murugavel v\\appdata\\roaming\\python\\python312\\site-packages (from langchain-core>=0.1->langgraph) (24.1)\n",
      "Requirement already satisfied: pyyaml<7.0.0,>=5.3.0 in c:\\users\\murugavel v\\appdata\\roaming\\python\\python312\\site-packages (from langchain-core>=0.1->langgraph) (6.0.1)\n",
      "Requirement already satisfied: tenacity!=8.4.0,<10.0.0,>=8.1.0 in c:\\users\\murugavel v\\appdata\\roaming\\python\\python312\\site-packages (from langchain-core>=0.1->langgraph) (8.5.0)\n",
      "Requirement already satisfied: jsonpointer>=1.9 in c:\\users\\murugavel v\\appdata\\roaming\\python\\python312\\site-packages (from jsonpatch<2.0.0,>=1.33.0->langchain-core>=0.1->langgraph) (3.0.0)\n",
      "Requirement already satisfied: requests-toolbelt<2.0.0,>=1.0.0 in c:\\users\\murugavel v\\appdata\\roaming\\python\\python312\\site-packages (from langsmith<1.0.0,>=0.3.45->langchain-core>=0.1->langgraph) (1.0.0)\n",
      "Requirement already satisfied: zstandard<0.24.0,>=0.23.0 in c:\\users\\murugavel v\\appdata\\roaming\\python\\python312\\site-packages (from langsmith<1.0.0,>=0.3.45->langchain-core>=0.1->langgraph) (0.23.0)\n",
      "Requirement already satisfied: annotated-types>=0.6.0 in c:\\users\\murugavel v\\appdata\\roaming\\python\\python312\\site-packages (from pydantic->google-generativeai) (0.7.0)\n",
      "Requirement already satisfied: pydantic-core==2.27.2 in c:\\users\\murugavel v\\appdata\\roaming\\python\\python312\\site-packages (from pydantic->google-generativeai) (2.27.2)\n",
      "Requirement already satisfied: httplib2<1.0.0,>=0.19.0 in d:\\anaconda\\lib\\site-packages (from google-api-python-client->google-generativeai) (0.22.0)\n",
      "Requirement already satisfied: google-auth-httplib2<1.0.0,>=0.2.0 in d:\\anaconda\\lib\\site-packages (from google-api-python-client->google-generativeai) (0.2.0)\n",
      "Requirement already satisfied: uritemplate<5,>=3.0.1 in d:\\anaconda\\lib\\site-packages (from google-api-python-client->google-generativeai) (4.2.0)\n",
      "Requirement already satisfied: pyparsing!=3.0.0,!=3.0.1,!=3.0.2,!=3.0.3,<4,>=2.4.2 in c:\\users\\murugavel v\\appdata\\roaming\\python\\python312\\site-packages (from httplib2<1.0.0,>=0.19.0->google-api-python-client->google-generativeai) (3.1.2)\n",
      "Requirement already satisfied: colorama in c:\\users\\murugavel v\\appdata\\roaming\\python\\python312\\site-packages (from tqdm->google-generativeai) (0.4.6)\n",
      "Using cached google_ai_generativelanguage-0.6.15-py3-none-any.whl (1.3 MB)\n",
      "Installing collected packages: google-ai-generativelanguage\n",
      "  Attempting uninstall: google-ai-generativelanguage\n",
      "    Found existing installation: google-ai-generativelanguage 0.9.0\n",
      "    Uninstalling google-ai-generativelanguage-0.9.0:\n",
      "      Successfully uninstalled google-ai-generativelanguage-0.9.0\n",
      "Successfully installed google-ai-generativelanguage-0.6.15\n"
     ]
    },
    {
     "name": "stderr",
     "output_type": "stream",
     "text": [
      "ERROR: pip's dependency resolver does not currently take into account all the packages that are installed. This behaviour is the source of the following dependency conflicts.\n",
      "langchain-google-genai 3.0.0 requires google-ai-generativelanguage<1.0.0,>=0.7.0, but you have google-ai-generativelanguage 0.6.15 which is incompatible.\n"
     ]
    }
   ],
   "source": [
    "!pip install google-generativeai langgraph python-dotenv"
   ]
  },
  {
   "cell_type": "code",
   "execution_count": 5,
   "id": "7d89ac02-ccb0-4174-887c-1ae7c6685a51",
   "metadata": {
    "scrolled": true
   },
   "outputs": [],
   "source": [
    "from typing import TypedDict, List\n",
    "from langgraph.graph import StateGraph, START, END\n",
    "from dotenv import load_dotenv\n",
    "import google.generativeai as genai\n",
    "import os"
   ]
  },
  {
   "cell_type": "code",
   "execution_count": 7,
   "id": "17750c0e-d7c7-473b-b8a6-4d2847641d58",
   "metadata": {},
   "outputs": [],
   "source": [
    "load_dotenv()\n",
    "api_key = os.getenv(\"GOOGLE_API_KEY\")\n",
    "genai.configure(api_key=api_key)"
   ]
  },
  {
   "cell_type": "code",
   "execution_count": 9,
   "id": "c047a627-19ad-4d18-b658-18ad716ae8b9",
   "metadata": {},
   "outputs": [],
   "source": [
    "class ChatState(TypedDict):\n",
    "    messages: List[str]"
   ]
  },
  {
   "cell_type": "code",
   "execution_count": 25,
   "id": "76c533a4-87a8-4f2a-9954-a7ce66e85422",
   "metadata": {},
   "outputs": [],
   "source": [
    "def chatbot_node(state: ChatState) -> ChatState:\n",
    "    model = genai.GenerativeModel(\"gemini-2.0-flash\")\n",
    "    user_message = state[\"messages\"][-1]\n",
    "    response = model.generate_content(user_message)\n",
    "    return {\"messages\": state[\"messages\"] + [response.text]}\n"
   ]
  },
  {
   "cell_type": "code",
   "execution_count": 27,
   "id": "875e354b-ae2f-4f8a-bda2-eaec389670e0",
   "metadata": {},
   "outputs": [],
   "source": [
    "graph = StateGraph(ChatState)\n",
    "graph.add_node(\"chatbot\", chatbot_node)\n",
    "graph.add_edge(START, \"chatbot\")\n",
    "graph.add_edge(\"chatbot\", END)\n",
    "\n",
    "app = graph.compile()"
   ]
  },
  {
   "cell_type": "code",
   "execution_count": 29,
   "id": "18cf8013-bc22-461c-b74a-c198215e58fc",
   "metadata": {
    "scrolled": true
   },
   "outputs": [
    {
     "name": "stdout",
     "output_type": "stream",
     "text": [
      "Chatbot: LangGraph is a Python library built by the LangChain team to help developers build more robust and reliable conversational AI applications. It essentially provides a framework for constructing **stateful, multi-actor AI applications** by representing them as directed graphs.  Think of it as a way to orchestrate complex interactions between different components (like LLMs, tools, and decision-making logic) over multiple steps.\n",
      "\n",
      "Here's a breakdown of what I know about LangGraph:\n",
      "\n",
      "**Key Concepts and Features:**\n",
      "\n",
      "*   **Graph-Based Architecture:** At its core, LangGraph uses a directed graph data structure.  Nodes in the graph represent different actors or components in your application (like a prompt, an LLM, a tool, a decision maker), and edges define the flow of information and control between them.\n",
      "\n",
      "*   **State Management:**  A central concept is the state of the graph. This state is persisted across multiple rounds of interaction and can be updated by the actors within the graph. This is crucial for maintaining context in conversational applications.\n",
      "\n",
      "*   **Nodes and Edges:**\n",
      "    *   **Nodes:** Represent individual steps in the graph.  These can be LLMs, tools, functions, or other logic. Nodes process the current state and can update it or return output for downstream nodes.\n",
      "    *   **Edges:** Define the connections between nodes, specifying the flow of execution and data.  Edges can be conditional, allowing for branching logic based on the current state or output of a node.\n",
      "\n",
      "*   **Conditional Logic (Conditionals):** Allows you to build branching paths in the graph based on the current state.  This enables dynamic behavior and decision-making within the application.  Conditionals are often used to decide whether to use a tool, call an LLM again, or end the conversation.\n",
      "\n",
      "*   **Cycles (Loops):** LangGraph supports cycles, enabling you to create iterative processes within the graph. This is useful for scenarios where you need to repeat a set of actions until a certain condition is met.\n",
      "\n",
      "*   **Agents and Tools:** LangGraph is frequently used in conjunction with LangChain agents and tools.  Agents can be represented as nodes in the graph, allowing for dynamic tool selection and execution.\n",
      "\n",
      "*   **Debugging and Observability:** LangGraph includes tools for visualizing and debugging the graph execution flow.  This is essential for understanding how the application is behaving and identifying potential issues.\n",
      "\n",
      "*   **Serialization and Persistence:**  You can save and load LangGraph configurations, allowing you to reuse and share your graph-based applications.\n",
      "\n",
      "**Why Use LangGraph?**\n",
      "\n",
      "*   **Complex Workflows:**  LangGraph shines when dealing with complex, multi-step AI applications that require more than just a simple LLM call.  It provides a structured way to orchestrate different components and manage the flow of information between them.\n",
      "\n",
      "*   **Stateful Interactions:**  For conversational applications, state management is critical.  LangGraph provides a built-in mechanism for persisting state across multiple turns of the conversation, allowing you to maintain context and provide more relevant responses.\n",
      "\n",
      "*   **Improved Reliability:** By explicitly defining the execution flow and error handling, LangGraph can help improve the reliability of AI applications.\n",
      "\n",
      "*   **Modularity and Reusability:** The graph-based architecture promotes modularity, allowing you to create reusable components that can be easily integrated into different applications.\n",
      "\n",
      "*   **Enhanced Debugging:** Visualizing the graph execution flow can significantly aid in debugging complex applications.\n",
      "\n",
      "**Common Use Cases:**\n",
      "\n",
      "*   **Conversational Agents:** Building sophisticated conversational agents that can handle complex tasks, such as booking flights, answering questions, and providing personalized recommendations.\n",
      "\n",
      "*   **Automated Workflows:** Automating complex workflows that involve multiple steps and different actors, such as document processing, data analysis, and report generation.\n",
      "\n",
      "*   **Interactive Simulations:** Creating interactive simulations that allow users to explore different scenarios and make decisions.\n",
      "\n",
      "*   **AI-Powered Assistants:**  Developing AI assistants that can help users with a variety of tasks, such as scheduling appointments, managing finances, and providing technical support.\n",
      "\n",
      "**Example Scenario:**\n",
      "\n",
      "Imagine building a customer support chatbot.  You could use LangGraph to define the following graph:\n",
      "\n",
      "1.  **Initial Message:** A node that receives the user's initial message.\n",
      "2.  **Intent Recognition:** A node that uses an LLM to identify the user's intent (e.g., \"cancel my order,\" \"track my shipment\").\n",
      "3.  **Decision Point:** A conditional node that determines the next step based on the identified intent.\n",
      "    *   **If \"cancel order\":** Route to a \"Cancel Order\" node that uses a tool to cancel the order.\n",
      "    *   **If \"track shipment\":** Route to a \"Track Shipment\" node that uses a tool to retrieve shipment information.\n",
      "    *   **If \"unknown intent\":** Route to a \"Clarify Intent\" node that asks the user for more information.\n",
      "4.  **Response Generation:**  A node that uses an LLM to generate a response based on the output of the previous node.\n",
      "5.  **End:** A terminal node that ends the conversation.\n",
      "\n",
      "This is just a simplified example, but it illustrates how LangGraph can be used to build complex, stateful conversational applications.\n",
      "\n",
      "**How it Differs from LangChain Chains:**\n",
      "\n",
      "While LangChain Chains provide a way to sequence different LLM calls and operations, LangGraph offers a more structured and robust framework for building complex, stateful applications.  Here's the key difference:\n",
      "\n",
      "*   **State Management:** LangGraph explicitly manages state across multiple steps, while Chains typically don't have built-in state management.\n",
      "*   **Conditional Logic and Cycles:** LangGraph allows for branching paths and iterative processes using conditionals and cycles, which are more difficult to implement with Chains directly.\n",
      "*   **Graph-Based Structure:** The graph-based architecture of LangGraph provides a clearer and more modular way to define the flow of execution.\n",
      "\n",
      "**In summary, LangGraph provides a powerful framework for building complex, stateful AI applications by representing them as directed graphs. It offers features like state management, conditional logic, and cycles, making it well-suited for tasks like building sophisticated conversational agents and automating complex workflows.**\n",
      "\n",
      "To get started with LangGraph, I recommend checking out the official LangChain documentation and examples. They provide detailed explanations of the core concepts and demonstrate how to use the library to build various types of AI applications. Good luck!\n",
      "\n"
     ]
    }
   ],
   "source": [
    "final_state = app.invoke({\"messages\": [\"What do you know about LangGraph?\"]})\n",
    "print(\"Chatbot:\", final_state[\"messages\"][-1])"
   ]
  },
  {
   "cell_type": "code",
   "execution_count": null,
   "id": "48e1b78d-5ef3-47c0-8451-0e21a59aaca4",
   "metadata": {},
   "outputs": [],
   "source": []
  }
 ],
 "metadata": {
  "kernelspec": {
   "display_name": "Python 3 (ipykernel)",
   "language": "python",
   "name": "python3"
  },
  "language_info": {
   "codemirror_mode": {
    "name": "ipython",
    "version": 3
   },
   "file_extension": ".py",
   "mimetype": "text/x-python",
   "name": "python",
   "nbconvert_exporter": "python",
   "pygments_lexer": "ipython3",
   "version": "3.12.4"
  },
  "widgets": {
   "application/vnd.jupyter.widget-state+json": {
    "state": {},
    "version_major": 2,
    "version_minor": 0
   }
  }
 },
 "nbformat": 4,
 "nbformat_minor": 5
}
