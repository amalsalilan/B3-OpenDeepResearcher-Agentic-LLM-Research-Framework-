{
 "cells": [
  {
   "cell_type": "markdown",
   "id": "3f68bf23-76b1-48ca-b5cd-bc02fdd6e79f",
   "metadata": {},
   "source": [
    "# 🧠 Assignment 1: Build a Simple Chatbot using LangGraph and Gemini 2.0 Flash\n",
    "\n",
    "### 🎯 Objective\n",
    "Create a basic chatbot using **LangGraph** that takes a user message, sends it to the **Google Gemini 2.0 Flash** model, and prints the model’s reply in the console.\n",
    "\n",
    "---\n",
    "\n",
    "## 🚀 Project Overview\n",
    "This chatbot demonstrates how to integrate **LangGraph** with **Google’s Gemini 2.0 Flash model** via **LangChain**.  \n",
    "The chatbot accepts a user message, processes it through Gemini, and displays the response — showcasing state-based flow management using LangGraph.\n",
    "\n",
    "---\n",
    "\n",
    "## 🧩 Technologies Used\n",
    "- **Python 3.10+**\n",
    "- **LangGraph** (for graph-based state management)\n",
    "- **LangChain Google GenAI** (for Gemini model integration)\n",
    "- **dotenv** (for API key loading)\n",
    "- **Google Gemini 2.0 Flash**\n",
    "\n",
    "---\n",
    "\n",
    "## 📁 Project Structure"
   ]
  },
  {
   "cell_type": "markdown",
   "id": "d7554c02-e044-402a-96f1-871d68647129",
   "metadata": {},
   "source": [
    "📂 Simple-LangGraph-Chatbot\n",
    "│\n",
    "├── chatbot_langgraph.py # Main Python script\n",
    "├── api.env # Environment file storing your API key\n",
    "└── README.md # Project documentation"
   ]
  },
  {
   "cell_type": "markdown",
   "id": "96579472-2304-43e1-ac34-35df35070686",
   "metadata": {},
   "source": [
    "## 2️⃣ Create and Activate a Virtual Environment\n",
    "python -m venv venv\n",
    "venv\\Scripts\\activate"
   ]
  },
  {
   "cell_type": "markdown",
   "id": "a56277d2-b6d4-449d-b511-eadd78028db9",
   "metadata": {},
   "source": [
    "## 3️⃣ Install Dependencies\n",
    "pip install langgraph langchain-google-genai python-dotenv"
   ]
  },
  {
   "cell_type": "markdown",
   "id": "7832d61a-4025-4ed5-9394-bad100e2cfe9",
   "metadata": {},
   "source": [
    "## 4️⃣ Add Your Google API Key\n",
    "\n",
    "Create a file named api.env in the project root and add:\n",
    "\n",
    "GOOGLE_API_KEY=google_api_key"
   ]
  },
  {
   "cell_type": "markdown",
   "id": "065a2269-ab58-4794-acb5-81efd8de3019",
   "metadata": {},
   "source": [
    "## 🧠 How the Chatbot Works\n",
    "\n",
    "State Definition:\n",
    "A ChatState object stores all chat messages in a list.\n",
    "\n",
    "State Merging:\n",
    "New messages are appended instead of replacing old ones, preserving full conversation context.\n",
    "\n",
    "LangGraph Setup:\n",
    "The chatbot flow connects START → chatbot → END, ensuring a single, clear message pass.\n",
    "\n",
    "Gemini Model Integration:\n",
    "The chatbot node reads user input, sends it to Gemini 2.0 Flash, and stores the reply in the state.\n",
    "\n",
    "Console Output:\n",
    "The final model response is printed directly to the terminal."
   ]
  },
  {
   "cell_type": "markdown",
   "id": "f741a7b1-64f1-4736-9ba0-7de565586a10",
   "metadata": {},
   "source": [
    "##  ▶️Run the Chatbot\n",
    "Single Message Mode (default)"
   ]
  },
  {
   "cell_type": "markdown",
   "id": "4036be44-fbe1-425f-ab3a-261d58f04ded",
   "metadata": {},
   "source": [
    "python chatbot_langgraph.py"
   ]
  },
  {
   "cell_type": "markdown",
   "id": "b06426e4-edc0-47c6-adbc-d8bac5b6329a",
   "metadata": {},
   "source": [
    "## Console output example:\n",
    "\n",
    "API key loaded!\n",
    "\n",
    "Chatbot Reply:\n",
    "LangGraph is a Python framework that helps structure and manage AI workflows..."
   ]
  },
  {
   "cell_type": "markdown",
   "id": "fc4e5d82-bbb0-47bf-b5ea-8fc4d83dc054",
   "metadata": {},
   "source": [
    "# 🏁 Summary\n",
    "\n",
    "This assignment demonstrates:\n",
    "\n",
    "How to integrate LangGraph with Gemini 2.0 Flash\n",
    "\n",
    "How to define and merge conversational state\n",
    "\n",
    "How to create a clean, stateful chatbot workflow using LangChain’s Google GenAI module"
   ]
  },
  {
   "cell_type": "code",
   "execution_count": null,
   "id": "c1c79e0f-6695-445d-b4d4-e0b229cf577e",
   "metadata": {},
   "outputs": [],
   "source": []
  }
 ],
 "metadata": {
  "kernelspec": {
   "display_name": "Python [conda env:anaconda3]",
   "language": "python",
   "name": "conda-env-anaconda3-py"
  },
  "language_info": {
   "codemirror_mode": {
    "name": "ipython",
    "version": 3
   },
   "file_extension": ".py",
   "mimetype": "text/x-python",
   "name": "python",
   "nbconvert_exporter": "python",
   "pygments_lexer": "ipython3",
   "version": "3.13.5"
  }
 },
 "nbformat": 4,
 "nbformat_minor": 5
}
